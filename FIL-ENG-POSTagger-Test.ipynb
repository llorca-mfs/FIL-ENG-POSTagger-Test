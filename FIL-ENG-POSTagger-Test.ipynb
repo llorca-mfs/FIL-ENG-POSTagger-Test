{
 "cells": [
  {
   "cell_type": "markdown",
   "id": "cc8b4b7d",
   "metadata": {},
   "source": [
    "# Testing Different Monolingual Filipino and English Part of Speech (POS) Taggers"
   ]
  },
  {
   "cell_type": "markdown",
   "id": "cdf8f173",
   "metadata": {},
   "source": [
    "Import FilWordNet Corpus"
   ]
  },
  {
   "cell_type": "code",
   "execution_count": 5,
   "id": "345c408d",
   "metadata": {},
   "outputs": [],
   "source": [
    "import pandas as pd\n",
    "import random\n",
    "\n",
    "filword_corpus = pd.read_csv(\"processed_corpus_oct_2022.csv\")"
   ]
  },
  {
   "cell_type": "markdown",
   "id": "2be099d0",
   "metadata": {},
   "source": [
    "Generate random string from FilWordNet"
   ]
  },
  {
   "cell_type": "code",
   "execution_count": 7,
   "id": "55807252",
   "metadata": {},
   "outputs": [
    {
     "name": "stdout",
     "output_type": "stream",
     "text": [
      "And medyo nasa side ng nsfw ngayon this maybe one time thing kaya YOLO\n"
     ]
    }
   ],
   "source": [
    "randInd = random.randrange(len(filword_corpus))\n",
    "filword_randtext = filword_corpus.text[randInd]\n",
    "\n",
    "print(filword_randtext)"
   ]
  },
  {
   "cell_type": "markdown",
   "id": "37982c1c",
   "metadata": {},
   "source": [
    "## ENGPOSTs Testing"
   ]
  },
  {
   "cell_type": "markdown",
   "id": "74afe353",
   "metadata": {},
   "source": [
    "### spaCy Testing"
   ]
  },
  {
   "cell_type": "markdown",
   "id": "10f79eda",
   "metadata": {},
   "source": [
    "Import spaCy and model"
   ]
  },
  {
   "cell_type": "code",
   "execution_count": 8,
   "id": "91bc3858",
   "metadata": {},
   "outputs": [],
   "source": [
    "import spacy\n",
    "spacy_nlp = spacy.load(\"en_core_web_sm\")"
   ]
  },
  {
   "cell_type": "markdown",
   "id": "62d06aa3",
   "metadata": {},
   "source": [
    "Generate POS Tags"
   ]
  },
  {
   "cell_type": "code",
   "execution_count": 9,
   "id": "6e6fa3d6",
   "metadata": {},
   "outputs": [
    {
     "name": "stdout",
     "output_type": "stream",
     "text": [
      "And :  CCONJ :  coordinating conjunction\n",
      "medyo :  VERB :  verb\n",
      "nasa :  PROPN :  proper noun\n",
      "side :  PROPN :  proper noun\n",
      "ng :  PROPN :  proper noun\n",
      "nsfw :  PROPN :  proper noun\n",
      "ngayon :  VERB :  verb\n",
      "this :  DET :  determiner\n",
      "maybe :  ADV :  adverb\n",
      "one :  NUM :  numeral\n",
      "time :  NOUN :  noun\n",
      "thing :  NOUN :  noun\n",
      "kaya :  VERB :  verb\n",
      "YOLO :  VERB :  verb\n"
     ]
    }
   ],
   "source": [
    "def print_spacy(sentence):\n",
    "    \n",
    "    doc = spacy_nlp(sentence)\n",
    "    \n",
    "    for token in doc:\n",
    "        print(token, \": \", token.pos_, \": \", spacy.explain(token.pos_))\n",
    "\n",
    "print_spacy(filword_randtext)"
   ]
  },
  {
   "cell_type": "markdown",
   "id": "3b296133",
   "metadata": {},
   "source": [
    "### Flair Testing (with FW tag)"
   ]
  },
  {
   "cell_type": "markdown",
   "id": "c22542e6",
   "metadata": {},
   "source": [
    "Import Flair and tagger to use (pos-english)"
   ]
  },
  {
   "cell_type": "code",
   "execution_count": 10,
   "id": "d53b2436",
   "metadata": {},
   "outputs": [
    {
     "name": "stdout",
     "output_type": "stream",
     "text": [
      "2022-11-02 03:04:07,537 loading file /home/makorino/.flair/models/pos-english/a9a73f6cd878edce8a0fa518db76f441f1cc49c2525b2b4557af278ec2f0659e.121306ea62993d04cd1978398b68396931a39eb47754c8a06a87f325ea70ac63\n",
      "2022-11-02 03:04:08,119 SequenceTagger predicts: Dictionary with 53 tags: <unk>, O, UH, ,, VBD, PRP, VB, PRP$, NN, RB, ., DT, JJ, VBP, VBG, IN, CD, NNS, NNP, WRB, VBZ, WDT, CC, TO, MD, VBN, WP, :, RP, EX, JJR, FW, XX, HYPH, POS, RBR, JJS, PDT, NNPS, RBS, AFX, WP$, -LRB-, -RRB-, ``, '', LS, $, SYM, ADD\n"
     ]
    }
   ],
   "source": [
    "from flair.data import Sentence\n",
    "from flair.models import SequenceTagger\n",
    "\n",
    "# load tagger\n",
    "tagger = SequenceTagger.load(\"flair/pos-english\")"
   ]
  },
  {
   "cell_type": "markdown",
   "id": "b0b76547",
   "metadata": {},
   "source": [
    "Generate POS Tags"
   ]
  },
  {
   "cell_type": "code",
   "execution_count": 11,
   "id": "1b9689d8",
   "metadata": {},
   "outputs": [
    {
     "name": "stdout",
     "output_type": "stream",
     "text": [
      "Sentence: \"And medyo nasa side ng nsfw ngayon this maybe one time thing kaya YOLO\" → [\"And\"/CC, \"medyo\"/NN, \"nasa\"/NN, \"side\"/NN, \"ng\"/UH, \"nsfw\"/FW, \"ngayon\"/FW, \"this\"/DT, \"maybe\"/RB, \"one\"/CD, \"time\"/NN, \"thing\"/NN, \"kaya\"/NN, \"YOLO\"/NNP]\n",
      "The following NER tags are found:\n"
     ]
    }
   ],
   "source": [
    "# make example sentence\n",
    "sentence = Sentence(filword_randtext)\n",
    "\n",
    "# predict NER tags\n",
    "tagger.predict(sentence)\n",
    "\n",
    "# print sentence\n",
    "print(sentence)\n",
    "\n",
    "# print predicted NER spans\n",
    "print('The following NER tags are found:')\n",
    "# iterate over entities and print\n",
    "for entity in sentence.get_spans('pos'):\n",
    "    print(entity)"
   ]
  },
  {
   "cell_type": "markdown",
   "id": "e0419175",
   "metadata": {},
   "source": [
    "## FILPOSTs Testing"
   ]
  },
  {
   "cell_type": "markdown",
   "id": "73360371",
   "metadata": {},
   "source": [
    "### FSPOST (Go & Nocon, 2017)"
   ]
  },
  {
   "cell_type": "markdown",
   "id": "31af9dcf",
   "metadata": {},
   "source": [
    "Use FSPOST pipeline"
   ]
  },
  {
   "cell_type": "code",
   "execution_count": 13,
   "id": "b9fee2a8",
   "metadata": {},
   "outputs": [],
   "source": [
    "import os\n",
    "import nltk\n",
    "from nltk.tag.stanford import StanfordPOSTagger\n",
    "\n",
    "# These are Windows formatted directories\n",
    "#model = 'model//filipino-left5words-owlqn2-distsim-pref6-inf2.tagger'\n",
    "#jar = 'lib//stanford-postagger.jar'\n",
    "\n",
    "# These are Linux formatted directories\n",
    "model = 'model/filipino-left5words-owlqn2-distsim-pref6-inf2.tagger'\n",
    "jar = 'lib/stanford-postagger.jar'\n",
    "\n",
    "fspost = StanfordPOSTagger(model, path_to_jar=jar)  # Load Tagger Model\n",
    "fspost._SEPARATOR = '|'  # Set separator for proper tuple formatting (word, tag)\n",
    "\n",
    "def set_java_path(file_path):\n",
    "    \"\"\"\n",
    "    Function for setting java path to make Stanford POS Tagger work. Makes use of the 'os' library. Input \"\" to use\n",
    "    default java path, otherwise set the location.\n",
    "    Args:\n",
    "        file_path (str): The java file path / location.\n",
    "    \"\"\"\n",
    "    if file_path == \"\":\n",
    "        java_path = \"C:/Program Files/Java/jdk1.8.0_111/bin/java.exe\"\n",
    "        print(\"Java path set by default\")\n",
    "    else:\n",
    "        java_path = file_path\n",
    "        print(\"Java path set from given\")\n",
    "    os.environ['JAVAHOME'] = java_path\n",
    "\n",
    "def tag_string(sentence):\n",
    "    \"\"\"\n",
    "    Function for tagging a sentence/string. Output is a (word, pos) tuple. To output a POS-only string, enclose this\n",
    "    function with 'format_pos' function. Ex. fspost.format_pos(fspost.tag_string('this is a string')). Same goes for\n",
    "    Stanford's word|tag notation, use 'format_stanford' function.\n",
    "    Args:\n",
    "        sentence (str): The string to be tagged.\n",
    "    Returns:\n",
    "        tagged_string: a list of string tokens containing POS labeled (word, pos) tuples.\n",
    "    \"\"\"\n",
    "    tokens = sentence.split()  # Tokenize Sentence by whitespaces\n",
    "    # print(tokens)\n",
    "    tagged_string = fspost.tag(tokens)\n",
    "    return tagged_string\n",
    "\n",
    "def tag_string_list(sentence_list):\n",
    "    \"\"\"\n",
    "    Function for tagging a list of sentences. Output is a list of (word, pos) tuple. To output a POS-only string,\n",
    "    enclose the elements in this function with 'format_pos' function. Same goes for Stanford's word|tag notation, use\n",
    "    'format_stanford' function.\n",
    "    Args:\n",
    "        sentence_list (list): The list of strings to be tagged.\n",
    "    Returns:\n",
    "        tagged_list: a list of strings containing POS labelled (word, pos) tuples.\n",
    "    \"\"\"\n",
    "    progress_ctr = 0\n",
    "    tagged_list = []  # Initialize an empty list\n",
    "    for sentence in sentence_list:\n",
    "        tagged_tuple = tag_string(sentence)  # Tag each sentence in the list\n",
    "        tagged_list.append(tagged_tuple)  # Insert tagged sentence in the new list\n",
    "        progress_ctr += 1\n",
    "        print(progress_ctr, \"/\", len(sentence_list))  # Progress Counter\n",
    "    return tagged_list"
   ]
  },
  {
   "cell_type": "markdown",
   "id": "1212e2ad",
   "metadata": {},
   "source": [
    "[REQUIRED] Set JDK Path"
   ]
  },
  {
   "cell_type": "code",
   "execution_count": 14,
   "id": "73b94167",
   "metadata": {},
   "outputs": [
    {
     "name": "stdout",
     "output_type": "stream",
     "text": [
      "Java path set from given\n"
     ]
    }
   ],
   "source": [
    "# WINDOWS\n",
    "# set_java_path(\"C:/Program Files/Java/jdk-19/bin/java.exe\")\n",
    "\n",
    "# LINUX\n",
    "set_java_path(\"/usr/lib/jvm/java-11-openjdk-amd64/bin/\")"
   ]
  },
  {
   "cell_type": "markdown",
   "id": "638af062",
   "metadata": {},
   "source": [
    "Generate POS Tags"
   ]
  },
  {
   "cell_type": "code",
   "execution_count": 15,
   "id": "7625aa88",
   "metadata": {},
   "outputs": [
    {
     "data": {
      "text/plain": [
       "[('And', 'NNP'),\n",
       " ('medyo', 'JJC'),\n",
       " ('nasa', 'RBL'),\n",
       " ('side', 'FW'),\n",
       " ('ng', 'CCB'),\n",
       " ('nsfw', 'FW'),\n",
       " ('ngayon', 'RBW'),\n",
       " ('this', 'FW'),\n",
       " ('maybe', 'FW'),\n",
       " ('one', 'FW'),\n",
       " ('time', 'FW'),\n",
       " ('thing', 'FW'),\n",
       " ('kaya', 'CCR'),\n",
       " ('YOLO', 'NNPA')]"
      ]
     },
     "execution_count": 15,
     "metadata": {},
     "output_type": "execute_result"
    }
   ],
   "source": [
    "tag_string(filword_randtext)"
   ]
  },
  {
   "cell_type": "code",
   "execution_count": 17,
   "id": "f7eaa44d",
   "metadata": {},
   "outputs": [
    {
     "name": "stdout",
     "output_type": "stream",
     "text": [
      "Traceback (most recent call last):\r\n",
      "  File \"./filipino-pos/main.py\", line 173, in <module>\r\n",
      "    main()\r\n",
      "  File \"./filipino-pos/main.py\", line 150, in main\r\n",
      "    with open(args.checkpoint + '/settings.bin', 'rb') as f:\r\n",
      "FileNotFoundError: [Errno 2] No such file or directory: 'checkpoint/settings.bin'\r\n"
     ]
    }
   ],
   "source": [
    "! python ./filipino-pos/main.py \\\n",
    "    --do_predict \\\n",
    "    --checkpoint checkpoint \\\n",
    "    --sentence 'ginagamit ang matematika sa agham .'"
   ]
  },
  {
   "cell_type": "code",
   "execution_count": null,
   "id": "a80e8745",
   "metadata": {},
   "outputs": [],
   "source": []
  }
 ],
 "metadata": {
  "kernelspec": {
   "display_name": "Python 3",
   "language": "python",
   "name": "python3"
  },
  "language_info": {
   "codemirror_mode": {
    "name": "ipython",
    "version": 3
   },
   "file_extension": ".py",
   "mimetype": "text/x-python",
   "name": "python",
   "nbconvert_exporter": "python",
   "pygments_lexer": "ipython3",
   "version": "3.6.13"
  }
 },
 "nbformat": 4,
 "nbformat_minor": 5
}
